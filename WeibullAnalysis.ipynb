{
 "cells": [
  {
   "cell_type": "markdown",
   "id": "21230c28-5b23-414e-8cfc-c31bfced1598",
   "metadata": {
    "slideshow": {
     "slide_type": "slide"
    }
   },
   "source": [
    "# Composite Micromechanics\n",
    "\n",
    "This Jupyter Notebook is meant to show how the Weibull Analysis of Composite Fibres works."
   ]
  },
  {
   "cell_type": "markdown",
   "id": "05e5f213",
   "metadata": {
    "slideshow": {
     "slide_type": "skip"
    }
   },
   "source": [
    "## Load Packages"
   ]
  },
  {
   "cell_type": "code",
   "execution_count": 1,
   "id": "39f3f94a-fed2-443f-9bf2-8322cf3923b6",
   "metadata": {
    "slideshow": {
     "slide_type": "skip"
    }
   },
   "outputs": [],
   "source": [
    "#Load packages that will be used in the notebook\n",
    "import numpy as np\n",
    "import matplotlib.pyplot as plt\n",
    "import numpy.polynomial.polynomial as poly\n",
    "import pandas as pd"
   ]
  },
  {
   "cell_type": "markdown",
   "id": "c34168ca",
   "metadata": {},
   "source": [
    "## Functions"
   ]
  },
  {
   "cell_type": "code",
   "execution_count": 2,
   "id": "f85cfcb8",
   "metadata": {},
   "outputs": [],
   "source": [
    "def prob_f_weib(pf_cumm): #Probability function from the cummulative probabilty\n",
    "    Pf = [pf_cumm[0]]\n",
    "    points = pf_cumm.size\n",
    "    for pos in range(1,points):\n",
    "        Pf.append(pf_cumm[pos] - pf_cumm[pos-1])\n",
    "    \n",
    "    return Pf, sum(Pf)\n",
    "\n",
    "def prob_f_cumm(stress,sigma_star,m): #Cummulative probabilty\n",
    "    return 1 - np.exp(-1*np.power((stress/sigma_star),m))\n",
    "\n",
    "def err_sigma(m,i,err_m,err_i):\n",
    "    return np.exp(-i/m)*np.sqrt((-err_i/m)**2 + ((i*err_m)/(m)**2)**2)"
   ]
  },
  {
   "cell_type": "markdown",
   "id": "2d0349bb",
   "metadata": {},
   "source": [
    "## Weibull Tests"
   ]
  },
  {
   "cell_type": "code",
   "execution_count": 24,
   "id": "3c83a45d",
   "metadata": {},
   "outputs": [
    {
     "name": "stdout",
     "output_type": "stream",
     "text": [
      "Probability Function Integral: 1.0000\n"
     ]
    },
    {
     "data": {
      "image/png": "[encoded data removed]",
      "text/plain": [
       "<Figure size 432x288 with 1 Axes>"
      ]
     },
     "metadata": {
      "needs_background": "light"
     },
     "output_type": "display_data"
    },
    {
     "data": {
      "image/png": "[encoded data removed]",
      "text/plain": [
       "<Figure size 432x288 with 1 Axes>"
      ]
     },
     "metadata": {
      "needs_background": "light"
     },
     "output_type": "display_data"
    }
   ],
   "source": [
    "#Plot some data to see the Weibull distribution\n",
    "#----\n",
    "sigmaStar = 1000\n",
    "m = 10\n",
    "stressStart = 0\n",
    "stressEnd = 2000\n",
    "points = 200\n",
    "#----\n",
    "\n",
    "stressRange = np.linspace(stressStart,stressEnd,points)\n",
    "\n",
    "#Failure probability at stress, cummulative\n",
    "Pf_cumm = prob_f_cumm(stressRange,sigmaStar,m)\n",
    "\n",
    "#Failure at stress\n",
    "Pf,sum_prob = prob_f_weib(Pf_cumm)\n",
    "    \n",
    "#Plot the data\n",
    "plt.plot(stressRange,Pf_cumm)\n",
    "plt.title(\"Cumulative Probability to Failure\")\n",
    "plt.xlabel('Stress')\n",
    "plt.ylabel('Pf Cummulative')\n",
    "\n",
    "plt.figure(0)\n",
    "plt.plot(stressRange,Pf)\n",
    "plt.title(\"Probability to Failure\")\n",
    "plt.ylim(0, 0.1)\n",
    "plt.xlabel('Stress')\n",
    "plt.ylabel('Pf')\n",
    "\n",
    "print(f'Probability Function Integral: {sum_prob:.4f}') #This should be 1"
   ]
  },
  {
   "cell_type": "markdown",
   "id": "e64f0e7f",
   "metadata": {
    "slideshow": {
     "slide_type": "slide"
    }
   },
   "source": [
    "## Weibull Analysis\n",
    "\n",
    "### Data for Analysis\n",
    "\n",
    "#### Create Data\n",
    "\n",
    "Create fake data to use in the Weibull Analysis."
   ]
  },
  {
   "cell_type": "code",
   "execution_count": 4,
   "id": "66b2c34b",
   "metadata": {},
   "outputs": [],
   "source": [
    "rng = np.random.default_rng()\n",
    "#----\n",
    "m = 5. \n",
    "sigmaStar = 2000\n",
    "dataPoints = 200\n",
    "noiseSize = 100\n",
    "#----\n",
    "\n",
    "weibDist = sigmaStar*rng.weibull(m, dataPoints)\n",
    "\n",
    "#Add noise to the data so it looks more like real data\n",
    "noise = (np.random.rand(dataPoints)-0.5)*noiseSize\n",
    "\n",
    "#----\n",
    "stressData = weibDist + noise\n",
    "#----"
   ]
  },
  {
   "cell_type": "markdown",
   "id": "b5739e80",
   "metadata": {},
   "source": [
    "#### Read Data\n",
    "\n",
    "Read the data from a text file"
   ]
  },
  {
   "cell_type": "code",
   "execution_count": 5,
   "id": "b28dfdf2",
   "metadata": {},
   "outputs": [],
   "source": [
    "pdData = pd.read_csv('FailureData.txt')\n",
    "stressData = pdData.to_numpy()[:,0]\n",
    "\n",
    "dataPoints = stressData.size"
   ]
  },
  {
   "cell_type": "markdown",
   "id": "05a668cb",
   "metadata": {},
   "source": [
    "Data information"
   ]
  },
  {
   "cell_type": "code",
   "execution_count": 6,
   "id": "cfae3869",
   "metadata": {},
   "outputs": [
    {
     "name": "stdout",
     "output_type": "stream",
     "text": [
      "Min Stress: 1180.00\n",
      "Max Stress: 4531.00\n"
     ]
    }
   ],
   "source": [
    "print(f'Min Stress: {np.min(stressData):.2f}')\n",
    "print(f'Max Stress: {np.max(stressData):.2f}')"
   ]
  },
  {
   "cell_type": "markdown",
   "id": "a8df7ee7",
   "metadata": {},
   "source": [
    "### Weibull Analysis"
   ]
  },
  {
   "cell_type": "code",
   "execution_count": 16,
   "id": "c0c18bc6",
   "metadata": {},
   "outputs": [
    {
     "name": "stdout",
     "output_type": "stream",
     "text": [
      "Linear Fit:\n",
      " |->  m: 5.0158 +/- 0.1573\n",
      " |->  c: -40.2647 +/- 1.2451\n",
      " |->  R2: 0.96\n",
      "\n",
      "Weibull Constants:\n",
      " |->  m: 5.0158 +/- 0.1573\n",
      " |->  sigma*: 3064.4448 +/- 1083.2958\n"
     ]
    }
   ],
   "source": [
    "#Order the stress measured from lower to higher\n",
    "stressOrdered = np.sort(stressData)\n",
    "\n",
    "#Rank array\n",
    "r = np.linspace(1,dataPoints,dataPoints)\n",
    "\n",
    "# Transform the data to the needed plot\n",
    "#x axis data -> ln(stress)\n",
    "#y axis data -> ln(ln(1/(1-P)))\n",
    "#Find P first, P = (r-0.5)/N\n",
    "P = (r-0.5)/dataPoints\n",
    "    \n",
    "xAxisData = np.log(stressOrdered)\n",
    "yAxisData = np.log(np.log(1/(1-P)))\n",
    "\n",
    "\n",
    "#Fit a line to the transformed data\n",
    "p,V = np.polyfit(xAxisData,yAxisData,deg=1,cov=True)\n",
    "_,stats = poly.polyfit(xAxisData,yAxisData,1,full=True)\n",
    "residual = stats[0][0]\n",
    "R2 = 1 - residual / (dataPoints * yAxisData.var())\n",
    "\n",
    "print(\"Linear Fit:\")\n",
    "print(f' |->  m: {p[0]:.4f} +/- {np.sqrt(V[0][0]):.4f}')\n",
    "print(f' |->  c: {p[1]:.4f} +/- {np.sqrt(V[1][1]):.4f}')\n",
    "print(f' |->  R2: {R2:.2f}')\n",
    "\n",
    "#Calculate Weibull constants\n",
    "m = p[0]\n",
    "c = p[1]\n",
    "sigmaStar = np.exp((-p[1])/p[0])\n",
    "\n",
    "#Calculate the error for the constants\n",
    "err_m = np.sqrt(V[0][0]) #The error for Weibull cosntant m is the error of the slope\n",
    "err_c = np.sqrt(V[1][1]) \n",
    "err_sigma_star = err_sigma(m,c,err_m,err_c)\n",
    "\n",
    "print(\"\\nWeibull Constants:\")\n",
    "print(f' |->  m: {m:.4f} +/- {err_m:.4f}')\n",
    "print(f' |->  sigma*: {sigmaStar:.4f} +/- {err_sigma_star:.4f}')"
   ]
  },
  {
   "cell_type": "markdown",
   "id": "4b5bd97f",
   "metadata": {},
   "source": [
    "### Plots"
   ]
  },
  {
   "cell_type": "code",
   "execution_count": 17,
   "id": "6c4473aa",
   "metadata": {},
   "outputs": [
    {
     "data": {
      "text/plain": [
       "Text(0, 0.5, 'Pf')"
      ]
     },
     "execution_count": 17,
     "metadata": {},
     "output_type": "execute_result"
    },
    {
     "data": {
      "image/png": "[encoded data removed]",
      "text/plain": [
       "<Figure size 432x288 with 1 Axes>"
      ]
     },
     "metadata": {
      "needs_background": "light"
     },
     "output_type": "display_data"
    },
    {
     "data": {
      "image/png": "[encoded data removed]",
      "text/plain": [
       "<Figure size 432x288 with 1 Axes>"
      ]
     },
     "metadata": {
      "needs_background": "light"
     },
     "output_type": "display_data"
    }
   ],
   "source": [
    "#Plot both data and fit\n",
    "plt.plot(xAxisData,yAxisData,'o',label='Data')\n",
    "plt.plot(xAxisData,m*xAxisData + c,label='Fit Line')\n",
    "#plt.plot(xAxisData,(m+err_m)*xAxisData + c-err_c,'r--')\n",
    "#plt.plot(xAxisData,(m-err_m)*xAxisData + c+err_c,'r--')\n",
    "plt.legend()\n",
    "plt.xlabel('ln(sigma)')\n",
    "plt.ylabel('ln(ln(1/(1-P)))')\n",
    "\n",
    "plt.figure(0)\n",
    "stressRangePlot = np.linspace(0,np.max(stressData),dataPoints*2)\n",
    "Pf_cumm = prob_f_cumm(stressRangePlot,sigmaStar,m)\n",
    "\n",
    "plt.plot(stressOrdered,P,'x',label='Data Fail Probability')\n",
    "plt.plot(stressRangePlot,Pf_cumm,'--',label='Pf Cummulative')\n",
    "plt.legend()\n",
    "plt.xlabel('Stress')\n",
    "plt.ylabel('Pf')"
   ]
  }
 ],
 "metadata": {
  "kernelspec": {
   "display_name": "Python 3 (ipykernel)",
   "language": "python",
   "name": "python3"
  },
  "language_info": {
   "codemirror_mode": {
    "name": "ipython",
    "version": 3
   },
   "file_extension": ".py",
   "mimetype": "text/x-python",
   "name": "python",
   "nbconvert_exporter": "python",
   "pygments_lexer": "ipython3",
   "version": "3.9.12"
  },
  "toc": {
   "base_numbering": 1,
   "nav_menu": {},
   "number_sections": true,
   "sideBar": true,
   "skip_h1_title": false,
   "title_cell": "Table of Contents",
   "title_sidebar": "Contents",
   "toc_cell": false,
   "toc_position": {},
   "toc_section_display": true,
   "toc_window_display": true
  },
  "varInspector": {
   "cols": {
    "lenName": 16,
    "lenType": 16,
    "lenVar": 40
   },
   "kernels_config": {
    "python": {
     "delete_cmd_postfix": "",
     "delete_cmd_prefix": "del ",
     "library": "var_list.py",
     "varRefreshCmd": "print(var_dic_list())"
    },
    "r": {
     "delete_cmd_postfix": ") ",
     "delete_cmd_prefix": "rm(",
     "library": "var_list.r",
     "varRefreshCmd": "cat(var_dic_list()) "
    }
   },
   "position": {
    "height": "300px",
    "left": "1100px",
    "right": "20px",
    "top": "120px",
    "width": "350px"
   },
   "types_to_exclude": [
    "module",
    "function",
    "builtin_function_or_method",
    "instance",
    "_Feature"
   ],
   "window_display": false
  }
 },
 "nbformat": 4,
 "nbformat_minor": 5
}
